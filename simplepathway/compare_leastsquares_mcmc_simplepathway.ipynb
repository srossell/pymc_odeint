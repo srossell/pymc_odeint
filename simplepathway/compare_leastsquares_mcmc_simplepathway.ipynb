{
 "cells": [
  {
   "cell_type": "code",
   "execution_count": 1,
   "metadata": {
    "collapsed": true
   },
   "outputs": [],
   "source": [
    "from matplotlib.patches import Ellipse\n",
    "from scipy import stats\n",
    "from scipy.integrate import odeint\n",
    "import matplotlib.pyplot as plt\n",
    "import pandas as pd\n",
    "import numpy as np\n",
    "import scipy.optimize as optimize\n",
    "\n",
    "from artificialdata import init, time_vec, odes, obs, p_vec\n",
    "\n",
    "%matplotlib inline\n",
    "np.random.seed(42)"
   ]
  },
  {
   "cell_type": "code",
   "execution_count": 2,
   "metadata": {},
   "outputs": [],
   "source": [
    "Vmax_actual, Km_actual = p_vec"
   ]
  },
  {
   "cell_type": "code",
   "execution_count": 3,
   "metadata": {
    "collapsed": true
   },
   "outputs": [],
   "source": [
    "def error(p, t, init):\n",
    "    return (odeint(odes, init, t, args=(p,)) - obs).flatten()"
   ]
  },
  {
   "cell_type": "code",
   "execution_count": 4,
   "metadata": {},
   "outputs": [
    {
     "name": "stdout",
     "output_type": "stream",
     "text": [
      "[37.454011884736246, 9.50714306409916]\n"
     ]
    }
   ],
   "source": [
    "my_bounds = ([0, 0], [100, 10])\n",
    "guess = []\n",
    "for i, j in zip(*my_bounds):\n",
    "    guess.append(np.random.uniform(i, j))\n",
    "print(guess)"
   ]
  },
  {
   "cell_type": "code",
   "execution_count": 5,
   "metadata": {},
   "outputs": [],
   "source": [
    "sol_ls = optimize.least_squares(error, guess, args=(time_vec, init, ), bounds=my_bounds)"
   ]
  },
  {
   "cell_type": "markdown",
   "metadata": {},
   "source": [
    "# Getting the covariance matrix"
   ]
  },
  {
   "cell_type": "code",
   "execution_count": 6,
   "metadata": {},
   "outputs": [
    {
     "name": "stdout",
     "output_type": "stream",
     "text": [
      "[[ 19167.6  11079. ]\n",
      " [ 11079.    6408.2]]\n"
     ]
    }
   ],
   "source": [
    "# https://stackoverflow.com/questions/40187517/getting-covariance-matrix-of-fitted-parameters-from-scipy-optimize-least-squares\n",
    "cost = 2 * sol_ls.cost # sol_ls.cost is half sum of squares!\n",
    "H = np.dot(sol_ls.jac.T, sol_ls.jac)\n",
    "cov0 = np.linalg.inv(H)\n",
    "df = len(obs.flatten()) - len(sol_ls.x)  # degrees of freedom\n",
    "cov = cov0*cost/df\n",
    "print(cov.round(1))"
   ]
  },
  {
   "cell_type": "code",
   "execution_count": 7,
   "metadata": {},
   "outputs": [
    {
     "data": {
      "text/html": [
       "<div>\n",
       "<style scoped>\n",
       "    .dataframe tbody tr th:only-of-type {\n",
       "        vertical-align: middle;\n",
       "    }\n",
       "\n",
       "    .dataframe tbody tr th {\n",
       "        vertical-align: top;\n",
       "    }\n",
       "\n",
       "    .dataframe thead th {\n",
       "        text-align: right;\n",
       "    }\n",
       "</style>\n",
       "<table border=\"1\" class=\"dataframe\">\n",
       "  <thead>\n",
       "    <tr style=\"text-align: right;\">\n",
       "      <th></th>\n",
       "      <th>lower_bound</th>\n",
       "      <th>estimate</th>\n",
       "      <th>upper_bound</th>\n",
       "    </tr>\n",
       "  </thead>\n",
       "  <tbody>\n",
       "    <tr>\n",
       "      <th>0</th>\n",
       "      <td>-293.188909</td>\n",
       "      <td>26.070776</td>\n",
       "      <td>345.330462</td>\n",
       "    </tr>\n",
       "    <tr>\n",
       "      <th>1</th>\n",
       "      <td>-174.597992</td>\n",
       "      <td>10.000000</td>\n",
       "      <td>194.597992</td>\n",
       "    </tr>\n",
       "  </tbody>\n",
       "</table>\n",
       "</div>"
      ],
      "text/plain": [
       "   lower_bound   estimate  upper_bound\n",
       "0  -293.188909  26.070776   345.330462\n",
       "1  -174.597992  10.000000   194.597992"
      ]
     },
     "execution_count": 7,
     "metadata": {},
     "output_type": "execute_result"
    }
   ],
   "source": [
    "standard_errors = np.sqrt(np.diag(cov))\n",
    "ci_deltas = stats.t.isf(0.025, df=df) * standard_errors\n",
    "sol_df = pd.DataFrame({'estimate': sol_ls.x})\n",
    "sol_df['lower_bound'] = sol_df['estimate'] - ci_deltas.T\n",
    "sol_df['upper_bound'] = sol_df['estimate'] + ci_deltas.T\n",
    "sol_df[['lower_bound', 'estimate', 'upper_bound']]"
   ]
  },
  {
   "cell_type": "code",
   "execution_count": 8,
   "metadata": {},
   "outputs": [],
   "source": [
    "def ellipse_from_cov(cov, center):\n",
    "    eigvals, eigvecs = np.linalg.eigh(cov)\n",
    "\n",
    "    # The counter-clockwise angle to rotate our ellipse by \n",
    "    vx, vy = eigvecs[:,0][0], eigvecs[:,0][1]\n",
    "    theta = np.arctan2(vy, vx)\n",
    "\n",
    "    scale = np.sqrt(stats.chi2.ppf(0.95, 2))\n",
    "\n",
    "    # Width and height of ellipse to draw\n",
    "    width, height = 2 * scale * np.sqrt(eigvals)\n",
    "    e = Ellipse(xy=center, width=width, height=height,\n",
    "               angle=np.degrees(theta))\n",
    "    return e"
   ]
  },
  {
   "cell_type": "code",
   "execution_count": 9,
   "metadata": {},
   "outputs": [
    {
     "data": {
      "image/png": "[encoded data removed]",
      "text/plain": [
       "<Figure size 432x288 with 1 Axes>"
      ]
     },
     "metadata": {},
     "output_type": "display_data"
    }
   ],
   "source": [
    "center_ls = sol_ls.x\n",
    "\n",
    "e = ellipse_from_cov(cov, center_ls)\n",
    "\n",
    "fig, ax = plt.subplots()\n",
    "ax.set_xlim(center_ls[0] - ci_deltas[0]*1.5, center_ls[0] + ci_deltas[0]*1.5)\n",
    "ax.set_ylim(center_ls[1] - ci_deltas[1]*1.5, center_ls[1] + ci_deltas[1]*1.5)\n",
    "ax.add_artist(e)\n",
    "ax.plot(center_ls[0], center_ls[1], 'ro')\n",
    "ax.plot(Vmax_actual, Km_actual, 'go')\n",
    "ax.set_xlabel('Vmax')\n",
    "ax.set_ylabel('Km');"
   ]
  },
  {
   "cell_type": "markdown",
   "metadata": {},
   "source": [
    "# Importing results from pymc simulation"
   ]
  },
  {
   "cell_type": "code",
   "execution_count": 10,
   "metadata": {
    "collapsed": true
   },
   "outputs": [],
   "source": [
    "mcmc = pd.read_pickle('v_input_09.pkl')"
   ]
  },
  {
   "cell_type": "code",
   "execution_count": 11,
   "metadata": {},
   "outputs": [
    {
     "data": {
      "image/png": "[encoded data removed]",
      "text/plain": [
       "<Figure size 432x288 with 1 Axes>"
      ]
     },
     "metadata": {},
     "output_type": "display_data"
    }
   ],
   "source": [
    "plt.scatter(mcmc['Vmax'], mcmc['Km'])\n",
    "plt.plot(Vmax_actual, Km_actual, 'ko');"
   ]
  },
  {
   "cell_type": "code",
   "execution_count": 12,
   "metadata": {},
   "outputs": [
    {
     "data": {
      "image/png": "[encoded data removed]",
      "text/plain": [
       "<Figure size 432x288 with 1 Axes>"
      ]
     },
     "metadata": {},
     "output_type": "display_data"
    }
   ],
   "source": [
    "center_mcmc = mcmc[['Vmax', 'Km']].mean().values\n",
    "e2 = ellipse_from_cov(mcmc[['Vmax', 'Km']].cov().values, center_mcmc)\n",
    "e2.set_color('yellow')\n",
    "fig, ax = plt.subplots()\n",
    "ax.set_xlim(5, 21)\n",
    "ax.set_ylim(-2.5, 9.5)\n",
    "\n",
    "ax.add_artist(e2)\n",
    "ax.plot(center_mcmc[0], center_mcmc[1], 'bo')\n",
    "ax.plot(Vmax_actual, Km_actual, 'go')\n",
    "ax.set_xlabel('Vmax')\n",
    "ax.set_ylabel('Km');"
   ]
  },
  {
   "cell_type": "code",
   "execution_count": 13,
   "metadata": {},
   "outputs": [
    {
     "data": {
      "image/png": "[encoded data removed]",
      "text/plain": [
       "<Figure size 432x288 with 1 Axes>"
      ]
     },
     "metadata": {},
     "output_type": "display_data"
    }
   ],
   "source": [
    "e_large = ellipse_from_cov(cov, center_ls)\n",
    "e_small = ellipse_from_cov(mcmc[['Vmax', 'Km']].cov().values, center_mcmc)\n",
    "e_small.set_color('yellow')\n",
    "\n",
    "fig, ax = plt.subplots()\n",
    "ax.set_xlim(0, 30)\n",
    "ax.set_ylim(-7, 15)\n",
    "ax.add_artist(e_large)\n",
    "ax.add_artist(e_small)\n",
    "ax.plot(center_ls[0], center_ls[1], 'ro')\n",
    "ax.plot(center_mcmc[0], center_mcmc[1], 'bo')\n",
    "ax.plot(Vmax_actual, Km_actual, 'go')\n",
    "ax.set_xlabel('Vmax')\n",
    "ax.set_ylabel('Km');"
   ]
  },
  {
   "cell_type": "markdown",
   "metadata": {},
   "source": [
    "# Predicting a new condition"
   ]
  },
  {
   "cell_type": "code",
   "execution_count": 14,
   "metadata": {},
   "outputs": [],
   "source": [
    "def odes_new(x, t, p):\n",
    "    \"\"\"\n",
    "    Input rate changed from 9 to 20\n",
    "    \"\"\"\n",
    "    Vmax = p[0]\n",
    "    Km = p[1]\n",
    "    return np.array([\n",
    "        # 9 - Vmax * x[0] / (Km + x[0]),\n",
    "        20 - Vmax * x[0] / (Km + x[0]),\n",
    "        ])\n",
    "\n",
    "xt_actual = odeint(odes, init, time_vec, args=(p_vec,))\n",
    "xt_ls = odeint(odes, init, time_vec, args=(center_ls,))\n",
    "xt_mcmc = odeint(odes, init, time_vec, args=(center_mcmc,))"
   ]
  },
  {
   "cell_type": "code",
   "execution_count": 15,
   "metadata": {},
   "outputs": [
    {
     "data": {
      "image/png": "[encoded data removed]",
      "text/plain": [
       "<Figure size 432x288 with 1 Axes>"
      ]
     },
     "metadata": {},
     "output_type": "display_data"
    }
   ],
   "source": [
    "plt.plot(time_vec, xt_actual, label='actual')\n",
    "plt.plot(time_vec, xt_ls, label='least_sqrs')\n",
    "plt.plot(time_vec, xt_mcmc, label='least_mcmc')\n",
    "plt.legend()\n",
    "plt.xlabel('time')\n",
    "plt.ylabel('mass of x');"
   ]
  },
  {
   "cell_type": "code",
   "execution_count": 16,
   "metadata": {},
   "outputs": [
    {
     "name": "stdout",
     "output_type": "stream",
     "text": [
      "Distance ls 12.413386\n",
      "Distance mcmc 7.019267\n"
     ]
    }
   ],
   "source": [
    "# Euclidean distances\n",
    "ss_ls = ((xt_actual - xt_ls)**2).sum()\n",
    "ss_mcmc = ((xt_actual - xt_mcmc)**2).sum()\n",
    "print('Distance ls {0:2f}'.format(ss_ls))\n",
    "print('Distance mcmc {0:2f}'.format(ss_mcmc))"
   ]
  },
  {
   "cell_type": "code",
   "execution_count": null,
   "metadata": {
    "collapsed": true
   },
   "outputs": [],
   "source": []
  }
 ],
 "metadata": {
  "kernelspec": {
   "display_name": "pymc (py36)",
   "language": "python",
   "name": "pymc"
  },
  "language_info": {
   "codemirror_mode": {
    "name": "ipython",
    "version": 3
   },
   "file_extension": ".py",
   "mimetype": "text/x-python",
   "name": "python",
   "nbconvert_exporter": "python",
   "pygments_lexer": "ipython3",
   "version": "3.6.4"
  }
 },
 "nbformat": 4,
 "nbformat_minor": 2
}
