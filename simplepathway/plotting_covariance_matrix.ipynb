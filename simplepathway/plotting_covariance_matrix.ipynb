{
 "cells": [
  {
   "cell_type": "code",
   "execution_count": 1,
   "metadata": {},
   "outputs": [
    {
     "name": "stderr",
     "output_type": "stream",
     "text": [
      "/anaconda3/envs/pymc/lib/python3.6/site-packages/statsmodels/compat/pandas.py:56: FutureWarning: The pandas.core.datetools module is deprecated and will be removed in a future version. Please use the pandas.tseries module instead.\n",
      "  from pandas.core import datetools\n"
     ]
    }
   ],
   "source": [
    "from matplotlib.patches import Ellipse\n",
    "from scipy import stats\n",
    "import matplotlib.pyplot as plt\n",
    "import numpy as np\n",
    "import scipy.optimize as optimize\n",
    "import statsmodels.api as sm\n",
    "\n",
    "%matplotlib inline\n",
    "np.random.seed(42)"
   ]
  },
  {
   "cell_type": "code",
   "execution_count": 2,
   "metadata": {},
   "outputs": [],
   "source": [
    "# Generating data\n",
    "n = 100\n",
    "x = np.linspace(0, 10, n)\n",
    "beta = np.array([1, 0.1])\n",
    "e = np.random.normal(size=n)\n",
    "\n",
    "X = sm.add_constant(x)\n",
    "y = np.dot(X, beta) + e"
   ]
  },
  {
   "cell_type": "code",
   "execution_count": 3,
   "metadata": {},
   "outputs": [
    {
     "name": "stdout",
     "output_type": "stream",
     "text": [
      "stasmodels\n",
      "\n",
      "[ 0.82718715  0.11379327] \n",
      "\n",
      "[[ 0.46796326  1.18641103]\n",
      " [ 0.05173039  0.17585614]]\n"
     ]
    }
   ],
   "source": [
    "mod = sm.OLS(y, X)\n",
    "res = mod.fit()\n",
    "print(\"stasmodels\\n\")\n",
    "print(res.params, '\\n')\n",
    "print(res.conf_int(0.05))"
   ]
  },
  {
   "cell_type": "code",
   "execution_count": 4,
   "metadata": {},
   "outputs": [
    {
     "name": "stdout",
     "output_type": "stream",
     "text": [
      "optimize.least_squares\n",
      "\n",
      "[ 0.82718715  0.11379327] \n",
      "\n",
      "[[ 0.46796326  1.18641103]\n",
      " [ 0.05173039  0.17585614]]\n"
     ]
    }
   ],
   "source": [
    "def lr_error(beta_guess, X, y):\n",
    "    return np.dot(X, beta_guess) - y\n",
    "\n",
    "sol_lr = optimize.least_squares(lr_error, [0, 0], args=(X, y,))\n",
    "cost_lr = 2 * sol_lr.cost # sol_ls.cost is half sum of squares!\n",
    "H_lr = np.dot(sol_lr.jac.T, sol_lr.jac)\n",
    "cov0_lr = np.linalg.inv(H_lr)\n",
    "df_lr = len(y.flatten()) - len(sol_lr.x)  # degrees of freedom\n",
    "cov_lr = cov0_lr*cost_lr/df_lr\n",
    "standard_error_lr = np.sqrt(np.diag(cov_lr))  # same as statsmodels\n",
    "\n",
    "t_stats = (sol_lr.x - 0)/standard_error_lr  # also as statsmodels\n",
    "\n",
    "ci_deltas_lr = stats.t.isf(0.025, df=df_lr) * standard_error_lr\n",
    "\n",
    "print('optimize.least_squares\\n')\n",
    "print(sol_lr.x, '\\n')\n",
    "print(np.array([sol_lr.x -  ci_deltas_lr, sol_lr.x + ci_deltas_lr]).T)"
   ]
  },
  {
   "cell_type": "code",
   "execution_count": 5,
   "metadata": {},
   "outputs": [
    {
     "data": {
      "image/png": "[encoded data removed]",
      "text/plain": [
       "<Figure size 432x288 with 1 Axes>"
      ]
     },
     "metadata": {},
     "output_type": "display_data"
    }
   ],
   "source": [
    "# Drawing the covariance matrix\n",
    "# http://www.visiondummy.com/2014/04/draw-error-ellipse-representing-covariance-matrix/\n",
    "\n",
    "# Eigen value decomposition\n",
    "eigvals, eigvecs = np.linalg.eigh(cov_lr)\n",
    "\n",
    "# The counter-clock angle to rotate our ellipse by \n",
    "vx, vy = eigvecs[:,0][0], eigvecs[:,0][1]\n",
    "theta = np.arctan2(vy, vx)\n",
    "\n",
    "# Scale for confidence interval\n",
    "scale = np.sqrt(stats.chi2.ppf(0.95, 2))\n",
    "\n",
    "# The elements of the elipse\n",
    "centre = sol_lr.x\n",
    "width, height = 2 * scale * np.sqrt(eigvals)\n",
    "\n",
    "# Creating an elipse with matplotlib's Ellipse patch\n",
    "e = Ellipse(xy=centre, width=width, height=height,\n",
    "               angle=np.degrees(theta))\n",
    "# Drawing the figure\n",
    "fig, ax = plt.subplots()\n",
    "ax.add_artist(e)\n",
    "ax.plot(centre[0], centre[1], 'ro')\n",
    "ax.set_xlim((centre[0] - ci_deltas_lr[0]*1.5), centre[0] + ci_deltas_lr[0]*1.5)\n",
    "ax.set_ylim(centre[1] - ci_deltas_lr[1]*1.5, centre[1] +ci_deltas_lr[1]*1.5);"
   ]
  },
  {
   "cell_type": "code",
   "execution_count": null,
   "metadata": {
    "collapsed": true
   },
   "outputs": [],
   "source": []
  }
 ],
 "metadata": {
  "kernelspec": {
   "display_name": "pymc (py36)",
   "language": "python",
   "name": "pymc"
  },
  "language_info": {
   "codemirror_mode": {
    "name": "ipython",
    "version": 3
   },
   "file_extension": ".py",
   "mimetype": "text/x-python",
   "name": "python",
   "nbconvert_exporter": "python",
   "pygments_lexer": "ipython3",
   "version": "3.6.4"
  }
 },
 "nbformat": 4,
 "nbformat_minor": 2
}
